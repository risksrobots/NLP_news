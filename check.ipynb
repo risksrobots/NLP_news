{
 "cells": [
  {
   "cell_type": "code",
   "execution_count": 1,
   "id": "9da9221f",
   "metadata": {},
   "outputs": [],
   "source": [
    "import pandas as pd\n",
    "import numpy as np\n",
    "import warnings\n",
    "warnings.filterwarnings('ignore')\n",
    "import yfinance as yf\n",
    "from pandas_datareader.data import DataReader\n",
    "import matplotlib.pyplot as plt\n",
    "import scipy\n",
    "import scipy.stats as st\n",
    "from statsmodels.tsa.seasonal import STL\n",
    "from scipy import signal\n",
    "import pingouin as pg\n",
    "pd.set_option('display.max_rows', None)\n",
    "from statsmodels.stats.weightstats import ttest_ind\n",
    "from tqdm.notebook import tqdm"
   ]
  },
  {
   "cell_type": "markdown",
   "id": "b6568ea4",
   "metadata": {},
   "source": [
    "# loading news and data"
   ]
  },
  {
   "cell_type": "code",
   "execution_count": 17,
   "id": "aba7cacb",
   "metadata": {},
   "outputs": [],
   "source": [
    "start_date = '2014-12-30'\n",
    "end_date = '2022-01-09'"
   ]
  },
  {
   "cell_type": "code",
   "execution_count": 18,
   "id": "1ca5048b",
   "metadata": {},
   "outputs": [],
   "source": [
    "spx_index = DataReader('^GSPC', 'yahoo', start_date, end_date)['Adj Close']\n",
    "spx_returns = spx_index.pct_change().dropna()"
   ]
  },
  {
   "cell_type": "markdown",
   "id": "12ff4773",
   "metadata": {},
   "source": [
    "# Data density and distribution functions"
   ]
  },
  {
   "cell_type": "code",
   "execution_count": 19,
   "id": "023602d3",
   "metadata": {},
   "outputs": [
    {
     "data": {
      "text/plain": [
       "<AxesSubplot:ylabel='Density'>"
      ]
     },
     "execution_count": 19,
     "metadata": {},
     "output_type": "execute_result"
    },
    {
     "data": {
      "image/png": "[encoded data removed]",
      "text/plain": [
       "<Figure size 432x288 with 1 Axes>"
      ]
     },
     "metadata": {
      "needs_background": "light"
     },
     "output_type": "display_data"
    }
   ],
   "source": [
    "spx_returns.plot(kind='kde')"
   ]
  },
  {
   "cell_type": "code",
   "execution_count": 20,
   "id": "d62a9997",
   "metadata": {},
   "outputs": [
    {
     "data": {
      "image/png": "[encoded data removed]",
      "text/plain": [
       "<Figure size 432x288 with 1 Axes>"
      ]
     },
     "metadata": {
      "needs_background": "light"
     },
     "output_type": "display_data"
    }
   ],
   "source": [
    "plt.hist(spx_returns, bins=200)\n",
    "plt.show()"
   ]
  },
  {
   "cell_type": "code",
   "execution_count": 22,
   "id": "b503af7a",
   "metadata": {},
   "outputs": [
    {
     "name": "stdout",
     "output_type": "stream",
     "text": [
      "p = 7.29083e-121\n",
      "The null hypothesis cannot be rejected\n"
     ]
    }
   ],
   "source": [
    "# scipy.stats.normaltest(spx_returns)\n",
    "rng = np.random.default_rng()\n",
    "k2, p = st.normaltest(spx_returns)\n",
    "alpha = 1e-3\n",
    "print(\"p = {:g}\".format(p))\n",
    "p = 0.05\n",
    "if p < alpha:  # null hypothesis: x comes from a normal distribution\n",
    "    print(\"The null hypothesis can be rejected\")\n",
    "else:\n",
    "    print(\"The null hypothesis cannot be rejected\")"
   ]
  },
  {
   "cell_type": "markdown",
   "id": "44d03af0",
   "metadata": {},
   "source": [
    "# Confidence interval without considering trend influence"
   ]
  },
  {
   "cell_type": "code",
   "execution_count": 8,
   "id": "b66ab87a",
   "metadata": {},
   "outputs": [],
   "source": [
    "conf_int = st.t.interval(alpha=0.95, df=len(spx_returns)-1, loc=np.mean(spx_returns), scale=np.std(spx_returns))"
   ]
  },
  {
   "cell_type": "code",
   "execution_count": 24,
   "id": "396be523",
   "metadata": {},
   "outputs": [],
   "source": [
    "outliers_negative = spx_returns[spx_returns <= conf_int[0]]\n",
    "outliers_positive = spx_returns[spx_returns >= conf_int[1]]\n",
    "outliers_conf_int = pd.concat([outliers_negative, outliers_positive], ignore_index=False)"
   ]
  },
  {
   "cell_type": "code",
   "execution_count": 10,
   "id": "391fb98a",
   "metadata": {},
   "outputs": [],
   "source": [
    "spx_returns_date = spx_returns.reset_index(drop=False)\n",
    "spx_index_date = spx_index.reset_index(drop=False)"
   ]
  },
  {
   "cell_type": "markdown",
   "id": "f59a5352",
   "metadata": {},
   "source": [
    "# Looking for anomalies in n days intervals"
   ]
  },
  {
   "cell_type": "code",
   "execution_count": 11,
   "id": "93bdc645",
   "metadata": {
    "scrolled": true
   },
   "outputs": [],
   "source": [
    "#n - количества дней по каждую сторону от выбранной даты\n",
    "\n",
    "n = 5"
   ]
  },
  {
   "cell_type": "code",
   "execution_count": 12,
   "id": "e432ad81",
   "metadata": {},
   "outputs": [],
   "source": [
    "def dataframe_p_vals(n, alp=0.9):\n",
    "    cols = ['date', 'p-val', 'return', 'conf_int_lower', 'conf_int_upper', 'conf_pred_lower', 'conf_pred_upper']\n",
    "    df = pd.DataFrame(0, index=np.arange(len(spx_returns-(2*n-1))), columns=cols)\n",
    "    df = df.reset_index(drop=False)\n",
    "    for i in range(n, len(df)):\n",
    "        n_pred = spx_returns[i - n:i - 1]\n",
    "        n_post = spx_returns[i:i + (n - 1)]\n",
    "        n_concat = pd.concat([n_pred, n_post])\n",
    "        results = ttest_ind(n_pred, n_post)\n",
    "        conf_int_ndays = st.t.interval(alpha=alp, df=len(n_concat)-1, loc=np.mean(n_concat), scale=np.std(n_concat))\n",
    "        conf_pred = st.t.interval(alpha=alp, df=len(n_pred)-1, loc=np.mean(n_pred), scale=np.std(n_pred))\n",
    "        df.iloc[i-n, list(df.columns).index('p-val')] = results[1].item(0)\n",
    "        df.iloc[i-n, list(df.columns).index('date')] = spx_returns_date.iloc[i, 0]\n",
    "        df.iloc[i-n, list(df.columns).index('conf_pred_lower')] = conf_pred[0]\n",
    "        df.iloc[i-n, list(df.columns).index('conf_pred_upper')] = conf_pred[1]\n",
    "        df.iloc[i-n, list(df.columns).index('conf_int_lower')] = conf_int_ndays[0]\n",
    "        df.iloc[i-n, list(df.columns).index('conf_int_upper')] = conf_int_ndays[1]\n",
    "        df.iloc[i-n, list(df.columns).index('return')] = spx_returns[i]\n",
    "\n",
    "    p_values_spx = df[:-n]\n",
    "    return p_values_spx"
   ]
  },
  {
   "cell_type": "code",
   "execution_count": 13,
   "id": "50e4e89a",
   "metadata": {},
   "outputs": [],
   "source": [
    "def confidence_within_2n_days(n):\n",
    "    n_days_analysis_anom_conf = pd.DataFrame(columns=['date'])\n",
    "    p_values_spx = dataframe_p_vals(n)\n",
    "\n",
    "    for i in range(len(p_values_spx)):\n",
    "        if p_values_spx.iloc[i, list(p_values_spx.columns).index('return')] <= p_values_spx.iloc[i, list(p_values_spx.columns).index('conf_int_lower')]:\n",
    "            new_row = p_values_spx.iloc[i, list(p_values_spx.columns).index('date')]\n",
    "            n_days_analysis_anom_conf.loc[i] = new_row\n",
    "        elif p_values_spx.iloc[i, list(p_values_spx.columns).index('return')] >= p_values_spx.iloc[i, list(p_values_spx.columns).index('conf_int_upper')]:\n",
    "            new_row = p_values_spx.iloc[i, list(p_values_spx.columns).index('date')]\n",
    "            n_days_analysis_anom_conf.loc[i] = new_row \n",
    "    return n_days_analysis_anom_conf"
   ]
  },
  {
   "cell_type": "code",
   "execution_count": 14,
   "id": "4c70498c",
   "metadata": {},
   "outputs": [],
   "source": [
    "def statistically_different_over_period(n):\n",
    "    p_values_spx = dataframe_p_vals(n)\n",
    "    n_days_analysis_anom = p_values_spx[p_values_spx['p-val'] <= 0.1][['return', 'conf_int_lower', 'conf_int_upper', 'date', 'index']]\n",
    "    n_days_analysis_anom_conf = confidence_within_2n_days(n)\n",
    "    set11, set12 = set(n_days_analysis_anom['date']), set(n_days_analysis_anom_conf['date'])\n",
    "    the_most_signif = pd.DataFrame(list(set11.intersection(set12)), columns=[str(f\"{n} the_most_signif\")])\n",
    "    printing = f\"number of news with significant influence over next {n} days: {len(set11.intersection(set12))}\"\n",
    "    return n_days_analysis_anom, printing, the_most_signif"
   ]
  },
  {
   "cell_type": "code",
   "execution_count": 15,
   "id": "31cb8f81",
   "metadata": {},
   "outputs": [],
   "source": [
    "def significant_after_period(n):\n",
    "    p_values_spx = dataframe_p_vals(n)\n",
    "    n_days_analysis_after_period = pd.DataFrame(columns=['date'])\n",
    "\n",
    "    for i in range(len(p_values_spx)):\n",
    "        if p_values_spx.iloc[i, list(p_values_spx.columns).index('return')] <= p_values_spx.iloc[i, list(p_values_spx.columns).index('conf_pred_lower')]:\n",
    "            new_row = p_values_spx.iloc[i, list(p_values_spx.columns).index('date')]\n",
    "            n_days_analysis_after_period.loc[i] = new_row\n",
    "        elif p_values_spx.iloc[i, list(p_values_spx.columns).index('return')] >= p_values_spx.iloc[i, list(p_values_spx.columns).index('conf_pred_upper')]:\n",
    "            new_row = p_values_spx.iloc[i, list(p_values_spx.columns).index('date')]\n",
    "            n_days_analysis_after_period.loc[i] = new_row    \n",
    "    \n",
    "    return n_days_analysis_after_period\n"
   ]
  },
  {
   "cell_type": "code",
   "execution_count": 16,
   "id": "d69b0dfc",
   "metadata": {},
   "outputs": [
    {
     "data": {
      "application/vnd.jupyter.widget-view+json": {
       "model_id": "43fb05f20b104dc7a224ced311f405f2",
       "version_major": 2,
       "version_minor": 0
      },
      "text/plain": [
       "  0%|          | 0/4 [00:00<?, ?it/s]"
      ]
     },
     "metadata": {},
     "output_type": "display_data"
    },
    {
     "name": "stdout",
     "output_type": "stream",
     "text": [
      "number of news with significant influence over next 5 days: 7\n",
      "number of news with significant influence over next 10 days: 12\n",
      "number of news with significant influence over next 15 days: 12\n",
      "number of news with significant influence over next 20 days: 13\n"
     ]
    }
   ],
   "source": [
    "N = [5, 10, 15, 20]\n",
    "signif_influence = pd.DataFrame(0, index=np.arange(len(N)*10), columns=['0'])\n",
    "for n in tqdm(N):\n",
    "    p_values_spx = dataframe_p_vals(n)\n",
    "    n_days_analysis_anom_conf = confidence_within_2n_days(n)\n",
    "    n_days_analysis_anom, printing, the_most_signif = statistically_different_over_period(n)\n",
    "    n_days_analysis_after_period = significant_after_period(n)\n",
    "    signif_influence = pd.concat([signif_influence,  n_days_analysis_anom_conf['date'].rename(f\"price_{n}_days_befandaft_confint\"), \n",
    "            n_days_analysis_anom['date'].rename(f\"price_{n}_days_interval_effect\"), \n",
    "            n_days_analysis_after_period['date'].rename(f\"price_{n}_previous_days_confint\")], axis=1)\n",
    "    print(printing)"
   ]
  },
  {
   "cell_type": "code",
   "execution_count": 17,
   "id": "03471d42",
   "metadata": {},
   "outputs": [],
   "source": [
    "signif_influence = signif_influence.drop(['0'], axis=1)\n",
    "signif_influence = signif_influence.fillna(value='empty')"
   ]
  },
  {
   "cell_type": "markdown",
   "id": "94506f56",
   "metadata": {},
   "source": [
    "# Looking for anomalies via looking at data distribution (2 st devs)"
   ]
  },
  {
   "cell_type": "code",
   "execution_count": 11,
   "id": "130cba66",
   "metadata": {},
   "outputs": [],
   "source": [
    "spx_returns_mu = spx_returns_date['Adj Close'].mean()\n",
    "spx_returns_dev = spx_returns_date['Adj Close'].std()\n",
    "lower = spx_returns_mu - 2*spx_returns_dev\n",
    "upper = spx_returns_mu + 2*spx_returns_dev"
   ]
  },
  {
   "cell_type": "code",
   "execution_count": 12,
   "id": "94de8dc9",
   "metadata": {},
   "outputs": [],
   "source": [
    "lower_anom = spx_returns_date[spx_returns_date['Adj Close'] <= lower][['Date', 'Adj Close']]\n",
    "upper_anom = spx_returns_date[spx_returns_date['Adj Close'] >= upper][['Date', 'Adj Close']]\n",
    "spx_anom_95 = pd.concat([lower_anom, upper_anom])\n",
    "spx_anom_95 = spx_anom_95['Date'].reset_index(drop=True)"
   ]
  },
  {
   "cell_type": "markdown",
   "id": "8b0520bc",
   "metadata": {},
   "source": [
    "# Final table"
   ]
  },
  {
   "cell_type": "code",
   "execution_count": 46,
   "id": "5754c026",
   "metadata": {},
   "outputs": [],
   "source": [
    "# Creating new dataframe\n",
    "\n",
    "cols = list(signif_influence.columns)\n",
    "df_int = pd.DataFrame(0, index=spx_index.index, columns=cols)\n",
    "df_int['price_two_sigma'] = 0\n",
    "df_help = df_int.T\n",
    "df_help['empty'] = 'empty'\n",
    "df_int = df_help.T"
   ]
  },
  {
   "cell_type": "code",
   "execution_count": 47,
   "id": "15aa77a1",
   "metadata": {},
   "outputs": [],
   "source": [
    "# Putting 1 in the results column if a date matches\n",
    "\n",
    "df_int.loc[spx_anom_95, 'price_two_sigma'] = 1\n",
    "for col in list(signif_influence):\n",
    "    df_int.loc[signif_influence[col], col] = 1\n",
    "df_int = df_int[:-1]"
   ]
  },
  {
   "cell_type": "code",
   "execution_count": null,
   "id": "1ba8cf46-aee1-40f0-9fdb-e80c8159c74f",
   "metadata": {},
   "outputs": [],
   "source": []
  },
  {
   "cell_type": "code",
   "execution_count": 48,
   "id": "40159a76",
   "metadata": {},
   "outputs": [],
   "source": [
    "# Summing all conditions\n",
    "\n",
    "df_int['result'] = df_int.T.sum()\n",
    "df_int_copy1 = df_int['result']\n",
    "df_int_copy1.to_csv('by_price.csv')"
   ]
  },
  {
   "cell_type": "code",
   "execution_count": 49,
   "id": "a2e4887e",
   "metadata": {},
   "outputs": [],
   "source": [
    "# Creating columns by which we can get dates that satisfy at least either 1 or 2 conditions\n",
    "\n",
    "df_int['by_price_days_with_at_least_1_value'] = 0\n",
    "df_int['by_price_days_with_at_least_2_values'] = 0\n",
    "df_int.loc[df_int.result > 0, 'by_price_days_with_at_least_1_value'] = 1\n",
    "df_int.loc[df_int.result > 1, 'by_price_days_with_at_least_2_values'] = 1"
   ]
  },
  {
   "cell_type": "code",
   "execution_count": 50,
   "id": "d222f532",
   "metadata": {},
   "outputs": [],
   "source": [
    "df_int_copy = df_int[['by_price_days_with_at_least_1_value', 'by_price_days_with_at_least_2_values']]"
   ]
  },
  {
   "cell_type": "markdown",
   "id": "d431e970-ab3b-45dc-8f66-5e825bb40ed4",
   "metadata": {},
   "source": [
    "#Get results for volume"
   ]
  },
  {
   "cell_type": "code",
   "execution_count": null,
   "id": "c611474c",
   "metadata": {},
   "outputs": [],
   "source": [
    "spx_index = DataReader('^GSPC', 'yahoo', start_date, end_date)['Volume']\n",
    "spx_returns = spx_index.pct_change().dropna()"
   ]
  },
  {
   "cell_type": "markdown",
   "id": "cf991d88-dd23-4255-9952-0307928a63de",
   "metadata": {},
   "source": [
    "#Looking for anomalies in n days intervals¶"
   ]
  },
  {
   "cell_type": "code",
   "execution_count": null,
   "id": "aa0ae343-b229-4674-ad38-66dd75a5a7a8",
   "metadata": {},
   "outputs": [],
   "source": [
    "n = 5"
   ]
  },
  {
   "cell_type": "code",
   "execution_count": null,
   "id": "ea3ba54e-d84f-40e6-bac5-7736c4914933",
   "metadata": {},
   "outputs": [],
   "source": [
    "def dataframe_p_vals(n):\n",
    "    df = pd.DataFrame(0, index=np.arange(len(spx_returns-(2*n-1))), columns=['date', 'p-val', 'return', 'conf_int_lower', 'conf_int_upper', 'conf_pred_lower', 'conf_pred_upper'])\n",
    "    df = df.reset_index(drop=False)\n",
    "    for i in range(n, len(df)):\n",
    "        n_pred = spx_returns[i - n:i - 1]\n",
    "        n_post = spx_returns[i:i + (n - 1)]\n",
    "        n_concat = pd.concat([n_pred, n_post])\n",
    "        results = ttest_ind(n_pred, n_post)\n",
    "        conf_int_ndays = st.t.interval(alpha=0.90, df=len(n_concat)-1, loc=np.mean(n_concat), scale=np.std(n_concat))\n",
    "        conf_pred = st.t.interval(alpha=0.90, df=len(n_pred)-1, loc=np.mean(n_pred), scale=np.std(n_pred))\n",
    "        df.iloc[i-n, list(df.columns).index('p-val')] = results[1].item(0)\n",
    "        df.iloc[i-n, list(df.columns).index('date')] = spx_returns_date.iloc[i, 0]\n",
    "        df.iloc[i-n, list(df.columns).index('conf_pred_lower')] = conf_pred[0]\n",
    "        df.iloc[i-n, list(df.columns).index('conf_pred_upper')] = conf_pred[1]\n",
    "        df.iloc[i-n, list(df.columns).index('conf_int_lower')] = conf_int_ndays[0]\n",
    "        df.iloc[i-n, list(df.columns).index('conf_int_upper')] = conf_int_ndays[1]\n",
    "        df.iloc[i-n, list(df.columns).index('return')] = spx_returns[i]\n",
    "\n",
    "    p_values_spx = df[:-n]\n",
    "    return p_values_spx"
   ]
  },
  {
   "cell_type": "code",
   "execution_count": null,
   "id": "debeb97b-5aec-4628-a0e7-2d9a9e239e2a",
   "metadata": {},
   "outputs": [],
   "source": [
    "def confidence_within_2n_days(n):\n",
    "    n_days_analysis_anom_conf = pd.DataFrame(columns=['date'])\n",
    "    p_values_spx = dataframe_p_vals(n)\n",
    "\n",
    "    for i in range(len(p_values_spx)):\n",
    "        if p_values_spx.iloc[i, list(p_values_spx.columns).index('return')] <= p_values_spx.iloc[i, list(p_values_spx.columns).index('conf_int_lower')]:\n",
    "            new_row = p_values_spx.iloc[i, list(p_values_spx.columns).index('date')]\n",
    "            n_days_analysis_anom_conf.loc[i] = new_row\n",
    "        elif p_values_spx.iloc[i, list(p_values_spx.columns).index('return')] >= p_values_spx.iloc[i, list(p_values_spx.columns).index('conf_int_upper')]:\n",
    "            new_row = p_values_spx.iloc[i, list(p_values_spx.columns).index('date')]\n",
    "            n_days_analysis_anom_conf.loc[i] = new_row \n",
    "    return n_days_analysis_anom_conf"
   ]
  },
  {
   "cell_type": "code",
   "execution_count": null,
   "id": "8507eb37-e73b-4aef-8aea-686c5d7c26e8",
   "metadata": {},
   "outputs": [],
   "source": [
    "def statistically_different_over_period(n):\n",
    "    p_values_spx = dataframe_p_vals(n)\n",
    "    n_days_analysis_anom = p_values_spx[p_values_spx['p-val'] <= 0.1][['return', 'conf_int_lower', 'conf_int_upper', 'date', 'index']]\n",
    "    n_days_analysis_anom_conf = confidence_within_2n_days(n)\n",
    "    set11, set12 = set(n_days_analysis_anom['date']), set(n_days_analysis_anom_conf['date'])\n",
    "    the_most_signif = pd.DataFrame(list(set11.intersection(set12)), columns=[str(f\"{n} the_most_signif\")])\n",
    "    printing = f\"number of news with significant influence over next {n} days: {len(set11.intersection(set12))}\"\n",
    "    return n_days_analysis_anom, printing, the_most_signif"
   ]
  },
  {
   "cell_type": "code",
   "execution_count": null,
   "id": "30f71510-9b00-4e78-b27b-099ffe563662",
   "metadata": {},
   "outputs": [],
   "source": [
    "def significant_after_period(n):\n",
    "    p_values_spx = dataframe_p_vals(n)\n",
    "    n_days_analysis_after_period = pd.DataFrame(columns=['date'])\n",
    "\n",
    "    for i in range(len(p_values_spx)):\n",
    "        if p_values_spx.iloc[i, list(p_values_spx.columns).index('return')] <= p_values_spx.iloc[i, list(p_values_spx.columns).index('conf_pred_lower')]:\n",
    "            new_row = p_values_spx.iloc[i, list(p_values_spx.columns).index('date')]\n",
    "            n_days_analysis_after_period.loc[i] = new_row\n",
    "        elif p_values_spx.iloc[i, list(p_values_spx.columns).index('return')] >= p_values_spx.iloc[i, list(p_values_spx.columns).index('conf_pred_upper')]:\n",
    "            new_row = p_values_spx.iloc[i, list(p_values_spx.columns).index('date')]\n",
    "            n_days_analysis_after_period.loc[i] = new_row    \n",
    "    \n",
    "    return n_days_analysis_after_period"
   ]
  },
  {
   "cell_type": "code",
   "execution_count": null,
   "id": "3f7ad806-062c-4c69-9ce7-39dfe3f05d73",
   "metadata": {},
   "outputs": [],
   "source": [
    "N = [5, 10, 15, 20]\n",
    "signif_influence = pd.DataFrame(0, index=np.arange(len(N)*10), columns=['0'])\n",
    "for n in tqdm(N):\n",
    "    p_values_spx = dataframe_p_vals(n)\n",
    "    n_days_analysis_anom_conf = confidence_within_2n_days(n)\n",
    "    n_days_analysis_anom, printing, the_most_signif = statistically_different_over_period(n)\n",
    "    n_days_analysis_after_period = significant_after_period(n)\n",
    "    signif_influence = pd.concat([signif_influence,  n_days_analysis_anom_conf['date'].rename(f\"volume_{n}_days_befandaft_confint\"), \n",
    "            n_days_analysis_anom['date'].rename(f\"volume_{n}_days_interval_effect\"), \n",
    "            n_days_analysis_after_period['date'].rename(f\"volume_{n}_previous_days_confint\")], axis=1)\n",
    "    print(printing)"
   ]
  },
  {
   "cell_type": "code",
   "execution_count": null,
   "id": "6eecd75b-390f-48cf-bf6a-7f52883bf7c5",
   "metadata": {},
   "outputs": [],
   "source": [
    "signif_influence = signif_influence.drop(['0'], axis=1)\n",
    "signif_influence = signif_influence.fillna(value='empty')"
   ]
  },
  {
   "cell_type": "markdown",
   "id": "a4d0574b-a959-4c13-a91e-acb3e423b8e3",
   "metadata": {},
   "source": [
    "#Looking for anomalies via looking at data distribution (2 st devs)"
   ]
  },
  {
   "cell_type": "code",
   "execution_count": null,
   "id": "2cad83aa-06fa-40f7-b665-b122c537bd3d",
   "metadata": {},
   "outputs": [],
   "source": [
    "spx_returns_mu = spx_returns_date['Volume'].mean()\n",
    "spx_returns_dev = spx_returns_date['Volume'].std()\n",
    "lower = spx_returns_mu - 2*spx_returns_dev\n",
    "upper = spx_returns_mu + 2*spx_returns_dev"
   ]
  },
  {
   "cell_type": "code",
   "execution_count": null,
   "id": "ac0d1328-13c3-43c7-a8d5-1210463f235c",
   "metadata": {},
   "outputs": [],
   "source": [
    "lower_anom = spx_returns_date[spx_returns_date['Volume'] <= lower][['Date', 'Volume']]\n",
    "upper_anom = spx_returns_date[spx_returns_date['Volume'] >= upper][['Date', 'Volume']]\n",
    "spx_anom_95 = pd.concat([lower_anom, upper_anom])\n",
    "spx_anom_95 = spx_anom_95['Date'].reset_index(drop=True)"
   ]
  },
  {
   "cell_type": "markdown",
   "id": "599ae26a-91e8-47e6-bb14-d609c108e0fc",
   "metadata": {},
   "source": [
    "#Final table"
   ]
  },
  {
   "cell_type": "code",
   "execution_count": null,
   "id": "84c8ea08-7d2a-4897-bdc5-ae0d4b6eefad",
   "metadata": {},
   "outputs": [],
   "source": [
    "# Creating new dataframe\n",
    "\n",
    "cols = list(signif_influence.columns)\n",
    "df_int2 = pd.DataFrame(0, index=spx_index.index, columns=cols)\n",
    "#df_int['volume_two_sigma'] = 0\n",
    "df_help2 = df_int2.T\n",
    "df_help2['empty'] = 'empty'\n",
    "df_int2 = df_help2.T"
   ]
  },
  {
   "cell_type": "code",
   "execution_count": null,
   "id": "9522a474-0631-4be1-829e-0e33cfc1ff91",
   "metadata": {},
   "outputs": [],
   "source": [
    "# Putting 1 in the results column if a date matches\n",
    "\n",
    "#df_int.loc[spx_anom_95, 'volume_two_sigma'] = 1\n",
    "for col in list(signif_influence):\n",
    "    df_int2.loc[signif_influence[col], col] = 1\n",
    "df_int2 = df_int2[:-1]"
   ]
  },
  {
   "cell_type": "code",
   "execution_count": null,
   "id": "29ae9e55-1d61-49b4-8a0d-8d81f17f28fc",
   "metadata": {},
   "outputs": [],
   "source": [
    "# Summing all conditions\n",
    "\n",
    "df_int2['result'] = df_int2.T.sum()"
   ]
  },
  {
   "cell_type": "code",
   "execution_count": null,
   "id": "63ac1811-e1ee-41fd-be8e-56c173695f58",
   "metadata": {},
   "outputs": [],
   "source": [
    "# Creating columns by which we can get dates that satisfy at least either 1 or 2 conditions\n",
    "\n",
    "df_int2[['by_volume_days_with_at_least_1_value', 'by_volume_days_with_at_least_2_values']] = 0\n",
    "df_int2.loc[df_int.result > 0, 'by_volume_days_with_at_least_1_value'] = 1\n",
    "df_int2.loc[df_int.result > 1, 'by_volume_days_with_at_least_2_values'] = 1"
   ]
  },
  {
   "cell_type": "markdown",
   "id": "9d7f424b-79a6-41be-8a38-f2fa0b2af8dc",
   "metadata": {},
   "source": [
    "#PELT"
   ]
  },
  {
   "cell_type": "code",
   "execution_count": null,
   "id": "bc888911-f505-49de-bd35-49f2ba09bccc",
   "metadata": {},
   "outputs": [],
   "source": [
    "k = spx_index.reset_index(drop='True')\n",
    "k = k.to_numpy()\n",
    "k1 = spx_returns.reset_index(drop='True')\n",
    "k1 = k1.to_numpy()"
   ]
  },
  {
   "cell_type": "code",
   "execution_count": null,
   "id": "dee365ab-1f90-488f-96de-0f3fa088c7ea",
   "metadata": {},
   "outputs": [],
   "source": [
    "def normal_var(data, mean):\n",
    "  \n",
    "    if not isinstance(data, np.ndarray):\n",
    "        data = np.array(data)\n",
    "\n",
    "    cumm = [0.0]\n",
    "    cumm.extend(np.cumsum(np.power(np.abs(data - mean), 2)))\n",
    "\n",
    "    def cost(s, t):\n",
    "        dist = float(t - s)\n",
    "        diff = cumm[t] - cumm[s]\n",
    "        return dist * (np.log(2*math.pi)+np.log(diff/dist)+1)\n",
    "\n",
    "    return cost\n",
    "\n",
    "def normal_meanvar(data):\n",
    "\n",
    "    data = np.hstack(([0.0], np.array(data)))\n",
    "\n",
    "    cumm = np.cumsum(data)\n",
    "    cumm_sq = np.cumsum([val**2 for val in data])\n",
    "\n",
    "    def cost(s, t):\n",
    "        ts_i = 1.0 / (t-s)\n",
    "        mu = (cumm[t] - cumm[s]) * ts_i\n",
    "        sig = (cumm_sq[t] - cumm_sq[s]) * ts_i - mu**2\n",
    "        sig_i = 1.0 / sig\n",
    "        return (t-s) * np.log(sig) + (cumm_sq[t] - cumm_sq[s]) * sig_i - 2*(cumm[t] - cumm[s])*mu*sig_i + ((t-s)*mu**2)*sig_i\n",
    "\n",
    "    return cost"
   ]
  },
  {
   "cell_type": "code",
   "execution_count": null,
   "id": "5e94fffe-093c-419e-a2af-9927bd1fcf9e",
   "metadata": {},
   "outputs": [],
   "source": [
    "def find_min(arr, val=0.0):\n",
    "    return min(arr) + val, np.argmin(arr)"
   ]
  },
  {
   "cell_type": "code",
   "execution_count": null,
   "id": "e5b7f539-50c1-4ac5-8d53-1e797ca6891a",
   "metadata": {},
   "outputs": [],
   "source": [
    "def pelt(cost, length, pen=None):\n",
    "\n",
    "    if pen is None:\n",
    "        pen = 2 * np.log(length)\n",
    "\n",
    "    F = np.zeros(length + 1)\n",
    "    R = np.array([0], dtype=np.int64)\n",
    "    candidates = np.zeros(length + 1, dtype=np.int64)\n",
    "\n",
    "    F[0] = -pen\n",
    "\n",
    "    for tstar in range(2, length + 1):\n",
    "        cpt_cands = R\n",
    "        seg_costs = np.zeros(len(cpt_cands))\n",
    "        for i in range(0, len(cpt_cands)):\n",
    "            seg_costs[i] = cost(cpt_cands[i], tstar)\n",
    "\n",
    "        F_cost = F[cpt_cands] + seg_costs\n",
    "        F[tstar], tau = find_min(F_cost, pen)\n",
    "        candidates[tstar] = cpt_cands[tau]\n",
    "\n",
    "        ineq_prune = [val < F[tstar] for val in F_cost]\n",
    "        R = [cpt_cands[j] for j, val in enumerate(ineq_prune) if val]\n",
    "        R.append(tstar - 1)\n",
    "        R = np.array(R, dtype=np.int64)\n",
    "\n",
    "    last = candidates[-1]\n",
    "    changepoints = [last]\n",
    "    while last > 0:\n",
    "        last = candidates[last]\n",
    "        changepoints.append(last)\n",
    "\n",
    "    return sorted(changepoints)"
   ]
  },
  {
   "cell_type": "code",
   "execution_count": null,
   "id": "3e0c580b-2c23-4700-9566-77dde22e79d4",
   "metadata": {},
   "outputs": [],
   "source": [
    "data_index = k\n",
    "data_returns = k1\n",
    "mean = 0.0\n",
    "cost1 = normal_var(data_index, mean)\n",
    "cost2 = normal_meanvar(data_index)\n",
    "result1 = pelt(cost1, len(data_index))\n",
    "result2 = pelt(cost2, len(data_index))\n",
    "print(result1)\n",
    "print(result2)"
   ]
  },
  {
   "cell_type": "code",
   "execution_count": null,
   "id": "fa844c88-6267-435e-a087-5c65447ca83e",
   "metadata": {},
   "outputs": [],
   "source": [
    "final = pd.DataFrame(0, index=spx_index.index, columns=['numbers', 'pelt'])\n",
    "final['numbers'] = spx_index.reset_index(drop=True).index\n",
    "for i in result2:\n",
    "    final.loc[(final['numbers'] == i), 'pelt'] = 1"
   ]
  },
  {
   "cell_type": "markdown",
   "id": "6054355f-8f9e-42cb-bb7e-56fd39a5673c",
   "metadata": {},
   "source": [
    "#two st dev for SMA"
   ]
  },
  {
   "cell_type": "code",
   "execution_count": null,
   "id": "58056558-c385-40b9-9f9f-2cd8acf2692d",
   "metadata": {},
   "outputs": [],
   "source": [
    "def sma(data, window):\n",
    "    sma = data.rolling(window = window).mean()\n",
    "    return sma\n",
    "\n",
    "spx_index['SMA_20'] = sma(spx_index['Adj Close'], 5)\n",
    "spx_index['SMA_20']"
   ]
  },
  {
   "cell_type": "code",
   "execution_count": null,
   "id": "581c5bb9-00af-469c-8287-855057f16ad7",
   "metadata": {},
   "outputs": [],
   "source": [
    "def bb(data, sma, window):\n",
    "    std = data.rolling(window = window).std()\n",
    "    upper_bb = sma + std * 2\n",
    "    lower_bb = sma - std * 2\n",
    "    return upper_bb, lower_bb\n",
    "\n",
    "spx_index['upper_bb'], spx_index['lower_bb'] = bb(spx_index['Adj Close'], spx_index['SMA_20'], 5)\n",
    "spx_index.tail()"
   ]
  },
  {
   "cell_type": "code",
   "execution_count": null,
   "id": "a41b6c9e-df96-4d7a-96d1-2d2d5a850aab",
   "metadata": {},
   "outputs": [],
   "source": [
    "spx_index['low_out'] = 0\n",
    "spx_index['high_out'] = 0\n",
    "spx_index.loc[spx_index['Low'] < spx_index['lower_bb'], 'low_out'] = 1\n",
    "spx_index.loc[spx_index['High'] > spx_index['upper_bb'], 'high_out'] = 1\n",
    "spx_index['outliers_from_tech'] = 0\n",
    "spx_index.loc[spx_index['low_out'] == 1, 'outliers_from_tech'] = 1\n",
    "spx_index.loc[spx_index['high_out'] == 1, 'outliers_from_tech'] = 1\n",
    "spx_index['outliers_from_tech'].value_counts()"
   ]
  },
  {
   "cell_type": "code",
   "execution_count": null,
   "id": "f08da7d9-6ebc-41d7-be3d-3d225d4e6dc4",
   "metadata": {},
   "outputs": [],
   "source": [
    "spx_index_copy = spx_index['outliers_from_tech']"
   ]
  },
  {
   "cell_type": "markdown",
   "id": "d3e26a4c-84a8-4c4f-98ca-49a476ab4d10",
   "metadata": {},
   "source": [
    "#Final results"
   ]
  },
  {
   "cell_type": "code",
   "execution_count": null,
   "id": "c2ed6872-2276-4b6f-bd50-a910c94838da",
   "metadata": {},
   "outputs": [],
   "source": [
    "news = pd.read_csv('news_correct_date.csv')\n",
    "price = df_int['by_price_days_with_at_least_2_values']\n",
    "volume = df_int2['by_volume_days_with_at_least_2_values']\n",
    "volume = volume.drop('Date', axis=1)\n",
    "tech = spx_index['outliers_from_tech']\n",
    "tech = tech.drop('Date', axis=1)\n",
    "pelt = final['pelt']\n",
    "pelt = pelt.drop('Date', axis=1)"
   ]
  },
  {
   "cell_type": "code",
   "execution_count": null,
   "id": "83bf07f1-eca9-4aeb-8cc6-8290abc5f2df",
   "metadata": {},
   "outputs": [],
   "source": [
    "final_result = pd.concat([price, volume, tech, pelt], axis=1, ignore_index=False)\n",
    "final_result.index = final_result['Date']\n",
    "final_result['Date'] = pd.to_datetime(final_result.Date)"
   ]
  },
  {
   "cell_type": "code",
   "execution_count": null,
   "id": "7d26b3bd-db24-4203-882b-fdb7a03d295b",
   "metadata": {},
   "outputs": [],
   "source": [
    "final_result_copy = final_result.drop('Date', axis=1)\n",
    "final_result['sum'] = final_result_copy.T.sum()"
   ]
  },
  {
   "cell_type": "code",
   "execution_count": null,
   "id": "443236d7-f8aa-44f6-aaed-6490cae46301",
   "metadata": {},
   "outputs": [],
   "source": [
    "final_result['target'] = 0\n",
    "final_result.loc[final_result['sum'] > 2, 'target'] = 1"
   ]
  },
  {
   "cell_type": "code",
   "execution_count": null,
   "id": "7a163959-9550-4860-9ff8-d7d068d3a24e",
   "metadata": {},
   "outputs": [],
   "source": [
    "#Сдвигаем даты для дней, когда были новости но не было торгов\n",
    "listDatestarget = list(final_result[final_result['target']==1]['Date'])\n",
    "listDatesSP500 = list(final_result['Date'])\n",
    "\n",
    "news = pd.read_csv('news_correct_date.csv')\n",
    "news['target'] = 0\n",
    "news['date_shifted'] = np.nan\n",
    "news['target_shifted'] = 0\n",
    "news['date'] = pd.to_datetime(news.date)\n",
    "listDatesNews = list(news['date'])\n",
    "news.head()"
   ]
  },
  {
   "cell_type": "code",
   "execution_count": null,
   "id": "5efbac42-c1ac-4b36-80d4-5db3779d4316",
   "metadata": {},
   "outputs": [],
   "source": [
    "for i in listDatesSP500:\n",
    "    news.loc[news['date'] == i, 'date_shifted'] = i"
   ]
  },
  {
   "cell_type": "code",
   "execution_count": null,
   "id": "1272f9e3-c530-4083-a8b8-84ea9c0941ba",
   "metadata": {},
   "outputs": [],
   "source": [
    "news = news.fillna(method='bfill')"
   ]
  },
  {
   "cell_type": "code",
   "execution_count": null,
   "id": "d6578c42-3fac-4bbd-aefc-4fa4f4e2d45e",
   "metadata": {},
   "outputs": [],
   "source": [
    "for i in listDatestarget:\n",
    "    news.loc[news['date'] == i, 'target'] = 1\n",
    "    \n",
    "    \n",
    "for i in listDatestarget:\n",
    "    news.loc[news['date_shifted'] == i, 'target_shifted'] = 1"
   ]
  },
  {
   "cell_type": "code",
   "execution_count": null,
   "id": "a73b6ba8-4c5a-46a5-90d2-3c7f93758a41",
   "metadata": {},
   "outputs": [],
   "source": [
    "news = news.drop(['target', 'date_shifted'], axis=1)"
   ]
  },
  {
   "cell_type": "code",
   "execution_count": null,
   "id": "9fe1e795-b9a6-4321-a586-5b520aa15dc0",
   "metadata": {},
   "outputs": [],
   "source": [
    "news.head()"
   ]
  },
  {
   "cell_type": "code",
   "execution_count": null,
   "id": "cee2764e-a5e5-4ba1-a41f-c211aef83cab",
   "metadata": {},
   "outputs": [],
   "source": [
    "news.to_csv('result.csv')"
   ]
  }
 ],
 "metadata": {
  "kernelspec": {
   "display_name": "Python 3 (ipykernel)",
   "language": "python",
   "name": "python3"
  },
  "language_info": {
   "codemirror_mode": {
    "name": "ipython",
    "version": 3
   },
   "file_extension": ".py",
   "mimetype": "text/x-python",
   "name": "python",
   "nbconvert_exporter": "python",
   "pygments_lexer": "ipython3",
   "version": "3.9.13"
  }
 },
 "nbformat": 4,
 "nbformat_minor": 5
}
